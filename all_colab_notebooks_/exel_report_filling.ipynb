{
  "nbformat": 4,
  "nbformat_minor": 0,
  "metadata": {
    "colab": {
      "provenance": []
    },
    "kernelspec": {
      "name": "python3",
      "display_name": "Python 3"
    },
    "language_info": {
      "name": "python"
    }
  },
  "cells": [
    {
      "cell_type": "code",
      "execution_count": null,
      "metadata": {
        "id": "mMbDVvTnB7-i"
      },
      "outputs": [],
      "source": [
        "import openpyxl"
      ]
    },
    {
      "cell_type": "code",
      "source": [
        "book = openpyxl.open('/content/Авансовый_отчет_Иванов_Пётр_Алексеевич.xlsx', read_only=False)\n",
        "sheet = book.worksheets[0]"
      ],
      "metadata": {
        "id": "-g0H2cDtC2Ij"
      },
      "execution_count": null,
      "outputs": []
    },
    {
      "cell_type": "code",
      "source": [
        "nerv = [('I-ADDRESS', '<s>'),\n",
        "('B-ADDRESS', '115114'),\n",
        "('I-ADDRESS', 'Mockba'),\n",
        "('I-ADDRESS', 'Площадь'),\n",
        "('I-ADDRESS', 'Павелечкого'),\n",
        "('I-ADDRESS', 'вокзала'),\n",
        "('I-ADDRESS', ''),\n",
        "('I-ADDRESS', ','),\n",
        "('I-ADDRESS', 'la'),\n",
        "('B-ADDRESS', '115114,'),\n",
        "('I-ADDRESS', 'r.Mockba,'),\n",
        "('I-ADDRESS', 'nл.Павеле'),\n",
        "('I-ADDRESS', 'ECC'),\n",
        "('I-ADDRESS', ''),\n",
        "('I-ADDRESS', '4A,'),\n",
        "('B-DATE', ':31.10.2023'),\n",
        "('I-ADDRESS', 'Aомодейово'),\n",
        "('I-ADDRESS', '189'),\n",
        "('I-ADDRESS', 'Павелeчkий'),\n",
        "('B-DATE', '31.10.23'),\n",
        "('B-TOTAL', ''),\n",
        "('B-TOTAL', '=500.00')]"
      ],
      "metadata": {
        "id": "T1HBOne0D8N5"
      },
      "execution_count": null,
      "outputs": []
    },
    {
      "cell_type": "code",
      "source": [
        "adress_total = ''\n",
        "total_total = ''\n",
        "date_total = ''\n",
        "company_total = ''\n",
        "total = ''\n",
        "date = ''\n",
        "company = ''\n",
        "adress = ''\n",
        "\n",
        "for i in range(len(nerv)):\n",
        "  if 'ADDRESS' in nerv[i][0]:\n",
        "      if 'B' in nerv[i][0]:\n",
        "        adress = nerv[i][1]\n",
        "      if 'I' in nerv[i][0]:\n",
        "        adress = adress + ' ' + nerv[i][1]\n",
        "  if 'DATE' in nerv[i][0]:\n",
        "      if 'B' in nerv[i][0]:\n",
        "        date = nerv[i][1]\n",
        "      if 'I' in nerv[i][0]:\n",
        "        date = date + ' ' + nerv[i][1]\n",
        "  if 'COMPANY' in nerv[i][0]:\n",
        "      if 'B' in nerv[i][0]:\n",
        "        company = nerv[i][1]\n",
        "      if 'I' in nerv[i][0]:\n",
        "        company = company + ' ' + nerv[i][1]\n",
        "  if 'TOTAL' in nerv[i][0]:\n",
        "      if 'B' in nerv[i][0]:\n",
        "        total = nerv[i][1]\n",
        "      if 'I' in nerv[i][0]:\n",
        "        total = total + ' ' + nerv[i][1]\n",
        "  if len(total) > len(total_total):\n",
        "    total_total = total\n",
        "  if len(date) > len(date_total):\n",
        "    date_total = date\n",
        "  if len(company) > len(company_total):\n",
        "    company_total = company\n",
        "  if len(adress) > len(adress_total):\n",
        "    adress_total = adress\n",
        "\n",
        "ttt = []\n",
        "ttt.append(adress_total)\n",
        "ttt.append(total_total)\n",
        "ttt.append(date_total)\n",
        "ttt.append(company_total)\n",
        "print(ttt)"
      ],
      "metadata": {
        "colab": {
          "base_uri": "https://localhost:8080/"
        },
        "id": "A7QgghlxNzCD",
        "outputId": "aa1ceaba-8f53-4ec5-a139-9ecfce7d2447"
      },
      "execution_count": null,
      "outputs": [
        {
          "output_type": "stream",
          "name": "stdout",
          "text": [
            "['115114, r.Mockba, nл.Павеле ECC  4A, Aомодейово 189 Павелeчkий', '=500.00', ':31.10.2023', '']\n"
          ]
        }
      ]
    },
    {
      "cell_type": "code",
      "source": [
        "for i in range(100):\n",
        "  if  sheet['D' + str(68+i)].value == None:\n",
        "    sheet['D' + str(68+i)] = ttt[2]\n",
        "    sheet['F' + str(68+i)] = ttt[3]\n",
        "    sheet['L' + str(68+i)] = ttt[1]\n",
        "    break\n",
        "\n",
        "book.save('product.xlsx')\n",
        "book.close()"
      ],
      "metadata": {
        "id": "1nhNPqKMFnBb"
      },
      "execution_count": null,
      "outputs": []
    }
  ]
}