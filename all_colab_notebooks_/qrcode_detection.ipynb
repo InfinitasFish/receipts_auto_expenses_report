{
  "nbformat": 4,
  "nbformat_minor": 0,
  "metadata": {
    "colab": {
      "provenance": []
    },
    "kernelspec": {
      "name": "python3",
      "display_name": "Python 3"
    },
    "language_info": {
      "name": "python"
    }
  },
  "cells": [
    {
      "cell_type": "code",
      "execution_count": null,
      "metadata": {
        "id": "-BjvrC0n0_VD"
      },
      "outputs": [],
      "source": [
        "import cv2"
      ]
    },
    {
      "cell_type": "code",
      "source": [
        "path = \"путь до изображения\"\n",
        "img = cv2.imread(path)"
      ],
      "metadata": {
        "id": "d8QG_Vh110SM"
      },
      "execution_count": null,
      "outputs": []
    },
    {
      "cell_type": "code",
      "source": [
        "detector = cv2.QRCodeDetector()\n",
        "\n",
        "data, bbox, straight_qrcode = detector.detectAndDecode(img)"
      ],
      "metadata": {
        "id": "McrdG64U7c8O"
      },
      "execution_count": null,
      "outputs": []
    },
    {
      "cell_type": "code",
      "source": [
        "if bbox is not None:\n",
        "  total = data[(data.find('s=') + 2):(data.find('&fn'))]\n",
        "  dateD = data[(data.find('t=') + 8):(data.find('T'))]\n",
        "  dateM = data[(data.find('t=') + 6):(data.find(dateD))]\n",
        "  dateY = data[(data.find('t=') + 2):(data.find(dateM))]\n",
        "  date = dateD + '.' + dateM + '.' + dateY\n",
        "  print(total)\n",
        "  print(date)"
      ],
      "metadata": {
        "colab": {
          "base_uri": "https://localhost:8080/"
        },
        "id": "8vWWbMbc8y6t",
        "outputId": "548a723a-9e3f-40f2-94a9-93fe458bc54d"
      },
      "execution_count": null,
      "outputs": [
        {
          "output_type": "stream",
          "name": "stdout",
          "text": [
            "42.97\n",
            "23.03.2017\n"
          ]
        }
      ]
    }
  ]
}